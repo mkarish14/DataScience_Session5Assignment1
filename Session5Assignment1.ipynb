{
 "cells": [
  {
   "cell_type": "code",
   "execution_count": 1,
   "metadata": {},
   "outputs": [
    {
     "name": "stdout",
     "output_type": "stream",
     "text": [
      "division by zero!\n",
      "In finally block for cleanup\n"
     ]
    }
   ],
   "source": [
    "#Question 1\n",
    "def divisionbyzero():\n",
    "    return 5/0\n",
    "\n",
    "try:\n",
    "    divisionbyzero()\n",
    "except ZeroDivisionError:\n",
    "    print('division by zero!')\n",
    "finally:\n",
    "    print('In finally block for cleanup')"
   ]
  },
  {
   "cell_type": "code",
   "execution_count": 6,
   "metadata": {},
   "outputs": [
    {
     "data": {
      "text/plain": [
       "[('Americans', 'play', 'Baseball'),\n",
       " ('Americans', 'play', 'cricket'),\n",
       " ('Americans', 'watch', 'Baseball'),\n",
       " ('Americans', 'watch', 'cricket'),\n",
       " ('Indians', 'play', 'Baseball'),\n",
       " ('Indians', 'play', 'cricket'),\n",
       " ('Indians', 'watch', 'Baseball'),\n",
       " ('Indians', 'watch', 'cricket')]"
      ]
     },
     "execution_count": 6,
     "metadata": {},
     "output_type": "execute_result"
    }
   ],
   "source": [
    "#Question 2\n",
    "subjects=[\"Americans\",\"Indians\"]\n",
    "verbs=[\"play\",\"watch\"]\n",
    "objects=[\"Baseball\",\"cricket\"]\n",
    "[(subject,verb,obj) for subject in subjects for verb in verbs for obj in objects]"
   ]
  },
  {
   "cell_type": "code",
   "execution_count": null,
   "metadata": {
    "collapsed": true
   },
   "outputs": [],
   "source": []
  },
  {
   "cell_type": "code",
   "execution_count": null,
   "metadata": {
    "collapsed": true
   },
   "outputs": [],
   "source": []
  }
 ],
 "metadata": {
  "kernelspec": {
   "display_name": "Python 3",
   "language": "python",
   "name": "python3"
  },
  "language_info": {
   "codemirror_mode": {
    "name": "ipython",
    "version": 3
   },
   "file_extension": ".py",
   "mimetype": "text/x-python",
   "name": "python",
   "nbconvert_exporter": "python",
   "pygments_lexer": "ipython3",
   "version": "3.6.3"
  }
 },
 "nbformat": 4,
 "nbformat_minor": 2
}
